{
 "cells": [
  {
   "cell_type": "code",
   "execution_count": 1,
   "metadata": {},
   "outputs": [],
   "source": [
    "import webhoseio"
   ]
  },
  {
   "cell_type": "code",
   "execution_count": 7,
   "metadata": {},
   "outputs": [],
   "source": [
    "webhoseio.config(token=\"8bec0992-4b9f-4f47-8138-90ff7f432814\")\n",
    "query_params = {\n",
    "\t\"q\": \"Entertainment language:english site_type:news location:(United States)\",\n",
    "\t\"ts\": \"1579208540516\",\n",
    "\t\"sort\": \"replies_count\"\n",
    "}\n",
    "output = webhoseio.query(\"filterWebContent\", query_params)"
   ]
  },
  {
   "cell_type": "code",
   "execution_count": 13,
   "metadata": {},
   "outputs": [
    {
     "data": {
      "text/plain": [
       "6"
      ]
     },
     "execution_count": 13,
     "metadata": {},
     "output_type": "execute_result"
    }
   ],
   "source": [
    "len(output)"
   ]
  },
  {
   "cell_type": "code",
   "execution_count": 18,
   "metadata": {},
   "outputs": [],
   "source": [
    "import urllib\n",
    "import requests\n",
    "import json\n",
    "import pandas as pd"
   ]
  },
  {
   "cell_type": "code",
   "execution_count": 19,
   "metadata": {},
   "outputs": [],
   "source": [
    "with open('D:/Study/Columbia/term2/6895/Data/675_20170904110837/675_webhose-2015-10-new_20170904110909/news_0000047.json','r',encoding='utf8')as fp:\n",
    "    json_data=json.load(fp)"
   ]
  },
  {
   "cell_type": "code",
   "execution_count": 20,
   "metadata": {},
   "outputs": [
    {
     "data": {
      "text/plain": [
       "{'organizations': ['Hollywood Studios'],\n",
       " 'uuid': 'f11d1fcc1922076650b832b3a14e1e904189f06d',\n",
       " 'thread': {'social': {'gplus': {'shares': 0},\n",
       "   'pinterest': {'shares': 0},\n",
       "   'vk': {'shares': 0},\n",
       "   'linkedin': {'shares': 0},\n",
       "   'facebook': {'likes': 0, 'shares': 0, 'comments': 0},\n",
       "   'stumbledupon': {'shares': 0}},\n",
       "  'site_full': 'www.industriesnews.net',\n",
       "  'main_image': '',\n",
       "  'site_section': 'http://www.industriesnews.net/rss.php/?ind=entertainment',\n",
       "  'section_title': 'industriesnews.net  - Breaking Entertainment News latest RSS headlines',\n",
       "  'url': 'http://www.industriesnews.net/story?sid=s237554989&cid=55',\n",
       "  'country': 'US',\n",
       "  'title': 'Club Disney to premiere in new Hollywood Studios venue',\n",
       "  'performance_score': 0,\n",
       "  'site': 'industriesnews.net',\n",
       "  'participants_count': 0,\n",
       "  'title_full': 'Club Disney to premiere in new Hollywood Studios venue',\n",
       "  'spam_score': 0.0,\n",
       "  'site_type': 'news',\n",
       "  'published': '2015-10-12T18:09:00.000+03:00',\n",
       "  'replies_count': 0,\n",
       "  'uuid': 'f11d1fcc1922076650b832b3a14e1e904189f06d'},\n",
       " 'author': '',\n",
       " 'url': 'http://www.industriesnews.net/story?sid=s237554989&cid=55',\n",
       " 'ord_in_thread': 0,\n",
       " 'title': 'Club Disney to premiere in new Hollywood Studios venue',\n",
       " 'locations': [],\n",
       " 'entities': {'persons': [], 'locations': [], 'organizations': []},\n",
       " 'highlightText': '',\n",
       " 'language': 'english',\n",
       " 'persons': [],\n",
       " 'text': ' ',\n",
       " 'external_links': [],\n",
       " 'published': '2015-10-12T18:09:00.000+03:00',\n",
       " 'crawled': '2015-10-13T09:34:01.375+03:00',\n",
       " 'highlightTitle': ''}"
      ]
     },
     "execution_count": 20,
     "metadata": {},
     "output_type": "execute_result"
    }
   ],
   "source": [
    "json_data"
   ]
  },
  {
   "cell_type": "code",
   "execution_count": 21,
   "metadata": {},
   "outputs": [],
   "source": [
    "news={}\n",
    "news['title']=json_data['title']\n",
    "news['country']=json_data['thread']['country']\n",
    "news['location']=json_data['locations']\n",
    "news['published_date']=json_data['published']\n",
    "news['text']=json_data['text']"
   ]
  },
  {
   "cell_type": "code",
   "execution_count": null,
   "metadata": {},
   "outputs": [],
   "source": []
  },
  {
   "cell_type": "code",
   "execution_count": null,
   "metadata": {},
   "outputs": [],
   "source": []
  },
  {
   "cell_type": "code",
   "execution_count": 40,
   "metadata": {},
   "outputs": [],
   "source": [
    "import os\n",
    "import glob\n",
    "import pandas as pd\n",
    "contents = []\n",
    "json_dir_name = \"D:/Study/Columbia/term2/6895/Data/675_20170904110837/675_webhose-2015-10-new_20170904110909\"\n",
    "\n",
    "json_pattern = os.path.join(json_dir_name,'*.json')\n",
    "file_list=glob.glob(json_pattern)\n",
    "for file in file_list:\n",
    "    with open(file,'r',encoding='utf8')as fp:\n",
    "        json_data=json.load(fp)\n",
    "    news={}\n",
    "    news['title']=json_data['title']\n",
    "    news['country']=json_data['thread']['country']\n",
    "    news['locations']=json_data['locations']\n",
    "    news['published_date']=json_data['published']\n",
    "    news['text']=json_data['text']    \n",
    "    contents.append(news)\n",
    "\n",
    "df = pd.DataFrame(contents)\n",
    "df.head()\n",
    "df.to_csv('D:/Study/Columbia/term2/6895/Data/News/2015_entertainmment_news.csv',index=False)"
   ]
  },
  {
   "cell_type": "code",
   "execution_count": 78,
   "metadata": {},
   "outputs": [],
   "source": [
    "#df.to_json('D:/Study/Columbia/term2/6895/Data/News/2015_entertainmment_news.json',orient='records')"
   ]
  },
  {
   "cell_type": "code",
   "execution_count": 32,
   "metadata": {},
   "outputs": [],
   "source": [
    "import pandas as pd\n",
    "df1=pd.read_csv('D:/Study/Columbia/term2/6895/Data/News/2015_entertainmment_news.csv')"
   ]
  },
  {
   "cell_type": "code",
   "execution_count": 39,
   "metadata": {},
   "outputs": [
    {
     "data": {
      "text/html": [
       "<div>\n",
       "<style scoped>\n",
       "    .dataframe tbody tr th:only-of-type {\n",
       "        vertical-align: middle;\n",
       "    }\n",
       "\n",
       "    .dataframe tbody tr th {\n",
       "        vertical-align: top;\n",
       "    }\n",
       "\n",
       "    .dataframe thead th {\n",
       "        text-align: right;\n",
       "    }\n",
       "</style>\n",
       "<table border=\"1\" class=\"dataframe\">\n",
       "  <thead>\n",
       "    <tr style=\"text-align: right;\">\n",
       "      <th></th>\n",
       "      <th>Unnamed: 0</th>\n",
       "      <th>title</th>\n",
       "      <th>text</th>\n",
       "    </tr>\n",
       "  </thead>\n",
       "  <tbody>\n",
       "    <tr>\n",
       "      <th>0</th>\n",
       "      <td>0</td>\n",
       "      <td>NYC art exhibition gives food for thought</td>\n",
       "      <td>&gt; Entertainment NYC art exhibition gives food ...</td>\n",
       "    </tr>\n",
       "    <tr>\n",
       "      <th>1</th>\n",
       "      <td>1</td>\n",
       "      <td>Tracy Morgan performs first stand-up show sinc...</td>\n",
       "      <td>Tracy Morgan performs first stand-up show sinc...</td>\n",
       "    </tr>\n",
       "    <tr>\n",
       "      <th>2</th>\n",
       "      <td>2</td>\n",
       "      <td>Esquire's Sexiest Woman Alive is the sultry Em...</td>\n",
       "      <td>SUBSCRIBE FOLLOW US © 2015 Cox Media Group . B...</td>\n",
       "    </tr>\n",
       "    <tr>\n",
       "      <th>3</th>\n",
       "      <td>3</td>\n",
       "      <td>President Barack Obama interviews author Maril...</td>\n",
       "      <td>FCC Information President Barack Obama intervi...</td>\n",
       "    </tr>\n",
       "    <tr>\n",
       "      <th>4</th>\n",
       "      <td>4</td>\n",
       "      <td>I will perform at night clubs, shows – Pastor ...</td>\n",
       "      <td>Source: Ghana | Hitz FM | Euphemia Akpalu Date...</td>\n",
       "    </tr>\n",
       "    <tr>\n",
       "      <th>...</th>\n",
       "      <td>...</td>\n",
       "      <td>...</td>\n",
       "      <td>...</td>\n",
       "    </tr>\n",
       "    <tr>\n",
       "      <th>50277</th>\n",
       "      <td>50277</td>\n",
       "      <td>Springfield rock band takes a shot at the big ...</td>\n",
       "      <td>Springfield rock band takes a shot at the big ...</td>\n",
       "    </tr>\n",
       "    <tr>\n",
       "      <th>50278</th>\n",
       "      <td>50278</td>\n",
       "      <td>Paris parties all night with silent disco, art...</td>\n",
       "      <td>&gt; Entertainment Paris parties all night with s...</td>\n",
       "    </tr>\n",
       "    <tr>\n",
       "      <th>50279</th>\n",
       "      <td>50279</td>\n",
       "      <td>Models, not celebrity guests, turn heads in Paris</td>\n",
       "      <td>&gt; Top News Models, not celebrity guests, turn ...</td>\n",
       "    </tr>\n",
       "    <tr>\n",
       "      <th>50280</th>\n",
       "      <td>50280</td>\n",
       "      <td>International Jewelry And Fashion Designer Mon...</td>\n",
       "      <td>Monalisa Okojie, known as The Jewelry Designer...</td>\n",
       "    </tr>\n",
       "    <tr>\n",
       "      <th>50281</th>\n",
       "      <td>50281</td>\n",
       "      <td>Download Video</td>\n",
       "      <td></td>\n",
       "    </tr>\n",
       "  </tbody>\n",
       "</table>\n",
       "<p>50282 rows × 3 columns</p>\n",
       "</div>"
      ],
      "text/plain": [
       "       Unnamed: 0                                              title  \\\n",
       "0               0          NYC art exhibition gives food for thought   \n",
       "1               1  Tracy Morgan performs first stand-up show sinc...   \n",
       "2               2  Esquire's Sexiest Woman Alive is the sultry Em...   \n",
       "3               3  President Barack Obama interviews author Maril...   \n",
       "4               4  I will perform at night clubs, shows – Pastor ...   \n",
       "...           ...                                                ...   \n",
       "50277       50277  Springfield rock band takes a shot at the big ...   \n",
       "50278       50278  Paris parties all night with silent disco, art...   \n",
       "50279       50279  Models, not celebrity guests, turn heads in Paris   \n",
       "50280       50280  International Jewelry And Fashion Designer Mon...   \n",
       "50281       50281                                     Download Video   \n",
       "\n",
       "                                                    text  \n",
       "0      > Entertainment NYC art exhibition gives food ...  \n",
       "1      Tracy Morgan performs first stand-up show sinc...  \n",
       "2      SUBSCRIBE FOLLOW US © 2015 Cox Media Group . B...  \n",
       "3      FCC Information President Barack Obama intervi...  \n",
       "4      Source: Ghana | Hitz FM | Euphemia Akpalu Date...  \n",
       "...                                                  ...  \n",
       "50277  Springfield rock band takes a shot at the big ...  \n",
       "50278  > Entertainment Paris parties all night with s...  \n",
       "50279  > Top News Models, not celebrity guests, turn ...  \n",
       "50280  Monalisa Okojie, known as The Jewelry Designer...  \n",
       "50281                                                     \n",
       "\n",
       "[50282 rows x 3 columns]"
      ]
     },
     "execution_count": 39,
     "metadata": {},
     "output_type": "execute_result"
    }
   ],
   "source": [
    "news=df1.drop(columns=['country','locations','published_date'])\n",
    "news"
   ]
  },
  {
   "cell_type": "code",
   "execution_count": 36,
   "metadata": {},
   "outputs": [
    {
     "data": {
      "text/plain": [
       "0            nyc art exhibition gives food for thought\n",
       "1    tracy morgan performs first stand-up show sinc...\n",
       "2    esquire's sexiest woman alive is the sultry em...\n",
       "3    president barack obama interviews author maril...\n",
       "4    i will perform at night clubs shows – pastor o...\n",
       "5    suge knight katt williams ordered to trial in ...\n",
       "6    presidential debate: inland democrats hope to ...\n",
       "7    meg records' country star tom maclear will be ...\n",
       "8                         defeat the zombie apocalypse\n",
       "9    julianne moore rallies fellow actors to fight ...\n",
       "Name: text_processed, dtype: object"
      ]
     },
     "execution_count": 36,
     "metadata": {},
     "output_type": "execute_result"
    }
   ],
   "source": [
    "#remove puncutation/lower casing\n",
    "import re\n",
    "news['text_processed']=news['title'].map(lambda x: re.sub('[,\\.!?]', '', x))\n",
    "news['text_processed']=news['text_processed'].map(lambda x: x.lower())\n",
    "news['text_processed'].head(10)"
   ]
  },
  {
   "cell_type": "code",
   "execution_count": 25,
   "metadata": {},
   "outputs": [
    {
     "data": {
      "image/png": "[encoded data removed]",
      "text/plain": [
       "<PIL.Image.Image image mode=RGB size=400x200 at 0x25AB59E1DC8>"
      ]
     },
     "execution_count": 25,
     "metadata": {},
     "output_type": "execute_result"
    }
   ],
   "source": [
    "#exploratory analysis--wordcloud\n",
    "from wordcloud import WordCloud\n",
    "long_string=','.join(list(news['text_processed'].values))\n",
    "wordcloud=WordCloud(background_color='white',max_words=5000,contour_width=3,contour_color='steelblue')\n",
    "wordcloud.generate(long_string)\n",
    "wordcloud.to_image()"
   ]
  },
  {
   "cell_type": "code",
   "execution_count": 26,
   "metadata": {},
   "outputs": [
    {
     "data": {
      "image/png": "[encoded data removed]",
      "text/plain": [
       "<Figure size 1080x667.491 with 1 Axes>"
      ]
     },
     "metadata": {
      "needs_background": "light"
     },
     "output_type": "display_data"
    }
   ],
   "source": [
    "from sklearn.feature_extraction.text import CountVectorizer\n",
    "import numpy as np\n",
    "import matplotlib.pyplot as plt\n",
    "import seaborn as sns\n",
    "sns.set_style('whitegrid')\n",
    "%matplotlib inline\n",
    "\n",
    "def plot_10_most_common_words(count_data, count_vectorizer):\n",
    "    words = count_vectorizer.get_feature_names()\n",
    "    total_counts = np.zeros(len(words))\n",
    "    for t in count_data:\n",
    "        total_counts+=t.toarray()[0]\n",
    "    \n",
    "    count_dict = (zip(words, total_counts))\n",
    "    count_dict = sorted(count_dict, key=lambda x:x[1], reverse=True)[0:10]\n",
    "    words = [w[0] for w in count_dict]\n",
    "    counts = [w[1] for w in count_dict]\n",
    "    x_pos = np.arange(len(words)) \n",
    "    \n",
    "    plt.figure(2, figsize=(15, 15/1.6180))\n",
    "    plt.subplot(title='10 most common words')\n",
    "    sns.set_context(\"notebook\", font_scale=1.25, rc={\"lines.linewidth\": 2.5})\n",
    "    sns.barplot(x_pos, counts, palette='husl')\n",
    "    plt.xticks(x_pos, words, rotation=90) \n",
    "    plt.xlabel('words')\n",
    "    plt.ylabel('counts')\n",
    "    plt.show()\n",
    "# Initialise the count vectorizer with the English stop words\n",
    "count_vectorizer = CountVectorizer(stop_words='english')\n",
    "# Fit and transform the processed titles\n",
    "count_data = count_vectorizer.fit_transform(news['text_processed'])\n",
    "# Visualise the 10 most common words\n",
    "plot_10_most_common_words(count_data, count_vectorizer)"
   ]
  },
  {
   "cell_type": "code",
   "execution_count": 107,
   "metadata": {},
   "outputs": [
    {
     "data": {
      "text/plain": [
       "CountVectorizer(analyzer='word', binary=False, decode_error='strict',\n",
       "                dtype=<class 'numpy.int64'>, encoding='utf-8', input='content',\n",
       "                lowercase=True, max_df=1.0, max_features=None, min_df=1,\n",
       "                ngram_range=(1, 1), preprocessor=None, stop_words='english',\n",
       "                strip_accents=None, token_pattern='(?u)\\\\b\\\\w\\\\w+\\\\b',\n",
       "                tokenizer=None, vocabulary=None)"
      ]
     },
     "execution_count": 107,
     "metadata": {},
     "output_type": "execute_result"
    }
   ],
   "source": [
    "count_vectorizer"
   ]
  },
  {
   "cell_type": "code",
   "execution_count": 28,
   "metadata": {},
   "outputs": [
    {
     "name": "stdout",
     "output_type": "stream",
     "text": [
      "Topics found via LDA:\n",
      "\n",
      "Topic #0:\n",
      "craig daniel bond tom brothel james character odom nevada star\n",
      "\n",
      "Topic #1:\n",
      "apos chicago tribune album new adele cubs campaign 25 studio\n",
      "\n",
      "Topic #2:\n",
      "star wars george interview political brand clooney crisis sandra bullock\n",
      "\n",
      "Topic #3:\n",
      "movie chris war review rock rihanna paris bridge mountain spies\n",
      "\n",
      "Topic #4:\n",
      "center clinton murphy sanders eddie afghan trial drugs start working\n",
      "\n",
      "Topic #5:\n",
      "makes county return news indian talk new jersey alia bhatt\n",
      "\n",
      "Topic #6:\n",
      "stars justin bieber photos dancing father proud hard nude gig\n",
      "\n",
      "Topic #7:\n",
      "awards music american win hall jackson rock car leads exclusive\n",
      "\n",
      "Topic #8:\n",
      "year 15 media prize 2015 latest cyrus nobel annual miley\n",
      "\n",
      "Topic #9:\n",
      "film festival best london named picture single chevalier really 13\n",
      "\n",
      "Topic #10:\n",
      "10 life slideshow things weekend tonight seasons canceled appearance chasing\n",
      "\n",
      "Topic #11:\n",
      "today record daughter hollywood cruise public cumberbatch chinese road accused\n",
      "\n",
      "Topic #12:\n",
      "award winning major work legend john quantico chrissy simon mom\n",
      "\n",
      "Topic #13:\n",
      "new tv women dog finds singer netflix series york unveils\n",
      "\n",
      "Topic #14:\n",
      "lamar odom kardashian dies khloe says maureen hara 95 queen\n",
      "\n",
      "Topic #15:\n",
      "little event west cosby kanye run sings dances memphis timberlake\n",
      "\n",
      "Topic #16:\n",
      "town celebrity wins fans valley turns court cowell future simon\n",
      "\n",
      "Topic #17:\n",
      "baby real screen scandal years carey daughter mulligan man fan\n",
      "\n",
      "Topic #18:\n",
      "fall students head los angeles obama debuts episode success cut\n",
      "\n",
      "Topic #19:\n",
      "like son theater boy lady harry potter gaga play young\n",
      "\n",
      "Topic #20:\n",
      "quaid randy actor released wife vermont arrested 20 books canada\n",
      "\n",
      "Topic #21:\n",
      "woman returns morgan takes tracy alive movie sexiest clarke crash\n",
      "\n",
      "Topic #22:\n",
      "dead cancer wants celebrates day green phil voice grateful music\n",
      "\n",
      "Topic #23:\n",
      "game khan birthday star salman happy john thrones life nfl\n",
      "\n",
      "Topic #24:\n",
      "shooting goes watch kids museum public fight oregon taken stephen\n",
      "\n",
      "Topic #25:\n",
      "sex new arts comic theatre 2015 york abuse foundation woman\n",
      "\n",
      "Topic #26:\n",
      "video new world old book year music hot dj lead\n",
      "\n",
      "Topic #27:\n",
      "taylor swift make halloween demi lovato peter mother met gala\n",
      "\n",
      "Topic #28:\n",
      "trailer star oct wars october new football monday force sale\n",
      "\n",
      "Topic #29:\n",
      "trump live night donald saturday host look deal offers inside\n",
      "\n",
      "Topic #30:\n",
      "don paul damon vs chef matt dead new away tom\n",
      "\n",
      "Topic #31:\n",
      "end cosby university playboy attack report filming forces star degree\n",
      "\n",
      "Topic #32:\n",
      "breaks school team high great ed sheeran super race silence\n",
      "\n",
      "Topic #33:\n",
      "season know need special times art drug knick air review\n",
      "\n",
      "Topic #34:\n",
      "jenner group hadid kendall gigi india couple draws collaboration balmain\n",
      "\n",
      "Topic #35:\n",
      "showbiz concert bang nyc song perform jay beyonce tidal gives\n",
      "\n",
      "Topic #36:\n",
      "new opens america model red double women live pull rome\n",
      "\n",
      "Topic #37:\n",
      "gets steve martin artist harris band new days actor dad\n",
      "\n",
      "Topic #38:\n",
      "family steve jobs movies line plays say science new winslet\n",
      "\n",
      "Topic #39:\n",
      "help gossip anniversary better pay heart celebrate continues jeremy gap\n",
      "\n",
      "Topic #40:\n",
      "time future love right 2015 final got world bachelorette ii\n",
      "\n",
      "Topic #41:\n",
      "big new city york dead walking huge premiere jay pimpin\n",
      "\n",
      "Topic #42:\n",
      "selena gomez music debut review album pop broadway new women\n",
      "\n",
      "Topic #43:\n",
      "photos street artists way set director ap dr promoting faces\n",
      "\n",
      "Topic #44:\n",
      "jenner come dance strictly dancing lee miller arrives kendall fraud\n",
      "\n",
      "Topic #45:\n",
      "black hit celebrities shows new names jennifer lawrence rose amy\n",
      "\n",
      "Topic #46:\n",
      "men tour vegas miss sunday state gay las crazy plans\n",
      "\n",
      "Topic #47:\n",
      "story reveals horror hotel jones want pics plan husband american\n",
      "\n",
      "Topic #48:\n",
      "box office news good rock martian cbs college pan presents\n",
      "\n",
      "Topic #49:\n",
      "oprah park party michael china winfrey kimmel explores watch faith\n"
     ]
    }
   ],
   "source": [
    "import warnings\n",
    "warnings.simplefilter(\"ignore\", DeprecationWarning)\n",
    "# Load the LDA model from sk-learn\n",
    "from sklearn.decomposition import LatentDirichletAllocation as LDA\n",
    " \n",
    "# Helper function\n",
    "def print_topics(model, count_vectorizer, n_top_words):\n",
    "    words = count_vectorizer.get_feature_names()\n",
    "    for topic_idx, topic in enumerate(model.components_):\n",
    "        print(\"\\nTopic #%d:\" % topic_idx)\n",
    "        print(\" \".join([words[i]\n",
    "                        for i in topic.argsort()[:-n_top_words - 1:-1]]))\n",
    "        \n",
    "# Tweak the two parameters below\n",
    "number_topics = 50\n",
    "number_words = 10\n",
    "# Create and fit the LDA model\n",
    "lda = LDA(n_components=number_topics, n_jobs=-1)\n",
    "lda.fit(count_data)\n",
    "# Print the topics found by the LDA model\n",
    "print(\"Topics found via LDA:\")\n",
    "print_topics(lda, count_vectorizer, number_words)"
   ]
  },
  {
   "cell_type": "code",
   "execution_count": null,
   "metadata": {},
   "outputs": [],
   "source": []
  },
  {
   "cell_type": "code",
   "execution_count": null,
   "metadata": {},
   "outputs": [],
   "source": [
    "https://towardsdatascience.com/end-to-end-topic-modeling-in-python-latent-dirichlet-allocation-lda-35ce4ed6b3e0"
   ]
  },
  {
   "cell_type": "code",
   "execution_count": null,
   "metadata": {},
   "outputs": [],
   "source": []
  },
  {
   "cell_type": "code",
   "execution_count": null,
   "metadata": {},
   "outputs": [],
   "source": [
    "https://blog.csdn.net/lashou_tech/article/details/51382475\n",
    "https://blog.csdn.net/claire7/article/details/46637723\n",
    "https://www.msra.cn/zh-cn/news/executivebylines/tech-bylines-personalized-recommendation-system\n",
    "https://www.hanspub.org/journal/PaperInformation.aspx?paperID=32431\n"
   ]
  },
  {
   "cell_type": "code",
   "execution_count": null,
   "metadata": {},
   "outputs": [],
   "source": [
    "#新闻API\n",
    "https://webhose.io/web-content-api\n",
    "#它的包的安装\n",
    "https://pypi.org/project/webhoseio/"
   ]
  },
  {
   "cell_type": "code",
   "execution_count": null,
   "metadata": {},
   "outputs": [],
   "source": [
    "#LDA\n",
    "https://towardsdatascience.com/topic-modeling-and-latent-dirichlet-allocation-in-python-9bf156893c24\n",
    "https://www.machinelearningplus.com/nlp/topic-modeling-gensim-python/\n",
    "https://towardsdatascience.com/end-to-end-topic-modeling-in-python-latent-dirichlet-allocation-lda-35ce4ed6b3e0\n",
    "http://dataskunkworks.com/2018/06/06/extracting-topics-from-11000-newsgroups-posts-with-python-gensim-and-lda/\n",
    "https://towardsdatascience.com/topic-modelling-in-python-with-nltk-and-gensim-4ef03213cd21\n",
    "https://www.kaggle.com/arthurtok/spooky-nlp-and-topic-modelling-tutorial\n",
    "https://ourcodingclub.github.io/2018/12/10/topic-modelling-python.html"
   ]
  },
  {
   "cell_type": "code",
   "execution_count": null,
   "metadata": {},
   "outputs": [],
   "source": [
    "http://dspace.bracu.ac.bd/xmlui/bitstream/handle/10361/9015/13301028%2C13301019_CSE.pdf?sequence=1&isAllowed=y\n",
    "http://paper.ijcsns.org/07_book/201608/20160820.pdf\n",
    "https://juejin.im/post/5e08a15f6fb9a01610798833\n",
    "https://www.ctolib.com/liuhuanyong-EventMonitor.html\n",
    "https://www.ixueshu.com/document/674fa6ad8a98c6003b52cfb85d43b7a2318947a18e7f9386.html"
   ]
  },
  {
   "cell_type": "code",
   "execution_count": null,
   "metadata": {},
   "outputs": [],
   "source": []
  },
  {
   "cell_type": "code",
   "execution_count": 1,
   "metadata": {},
   "outputs": [
    {
     "name": "stdout",
     "output_type": "stream",
     "text": [
      "[nltk_data] Downloading package punkt to /Users/kexinsu/nltk_data...\n",
      "[nltk_data]   Package punkt is already up-to-date!\n"
     ]
    },
    {
     "data": {
      "text/plain": [
       "True"
      ]
     },
     "execution_count": 1,
     "metadata": {},
     "output_type": "execute_result"
    }
   ],
   "source": [
    "import preprocessor.api as p\n",
    "from preprocessor.api import clean, tokenize, parse, set_options\n",
    "import pandas as pd\n",
    "import re #regular expression\n",
    "from textblob import TextBlob\n",
    "import string\n",
    "import nltk\n",
    "#nltk.download('stopwords')\n",
    "from nltk.tokenize import word_tokenize\n",
    "nltk.download('punkt')"
   ]
  },
  {
   "cell_type": "code",
   "execution_count": 5,
   "metadata": {},
   "outputs": [
    {
     "data": {
      "text/plain": [
       "'[\"b\\'This min has an in-studio visit with\\\\\\\\xc2\\\\\\\\xa0writer/artist ! We talked\\\\\\\\xc2\\\\\\\\xa0, ,\\\\\\\\xc2\\\\\\\\xa0\\\\\\\\xe2\\\\\\\\x80\\\\\\\\xa6 \\'\"][\"b\\'Hear the full min interview! Talked , , , , ,\\\\\\\\xe2\\\\\\\\x80\\\\\\\\xa6 \\'\"][\"b\\', , , , &amp; more came up in conversation with\\\\\\\\xc2\\\\\\\\xa0writer/artist\\\\\\\\xe2\\\\\\\\x80\\\\\\\\xa6 \\'\"][\\'b\"Here\\\\\\'s the full min convo w/ writer / artist Kelly Brack in Ep.219! \\\\\\\\n\\\\\\\\nWe talk , , ,\\\\\\\\xe2\\\\\\\\x80\\\\\\\\xa6 \"\\'][\"b\\'I really feel for the class of ...y\\\\\\\\xe2\\\\\\\\x80\\\\\\\\x99all been through it \\\\\\\\xf0\\\\\\\\x9f\\\\\\\\x92\\\\\\\\x80\\'\"][\"b\\'Talked , , , , , , , ,\\\\\\\\xe2\\\\\\\\x80\\\\\\\\xa6 \\'\"][\"b\\'Writer / artist Kelly Brack is a guest of Episode . \\\\\\\\n\\\\\\\\nWe\\\\\\\\xc2\\\\\\\\xa0talked\\\\\\\\xc2\\\\\\\\xa0, , , ,\\\\\\\\xe2\\\\\\\\x80\\\\\\\\xa6 \\'\"][\"b\\'Writer / artist is a guest of Episode . \\\\\\\\n\\\\\\\\nIn the full min convo we\\\\\\\\xc2\\\\\\\\xa0talked\\\\\\\\xc2\\\\\\\\xa0, ,\\\\\\\\xe2\\\\\\\\x80\\\\\\\\xa6 \\'\"][\"b\\'This min has an in-studio visit with\\\\\\\\xc2\\\\\\\\xa0writer/artist ! We talked\\\\\\\\xc2\\\\\\\\xa0, ,\\\\\\\\xc2\\\\\\\\xa0\\\\\\\\xe2\\\\\\\\x80\\\\\\\\xa6 \\'\"][\"b\\'Hear the full min interview! Talked , , , , ,\\\\\\\\xe2\\\\\\\\x80\\\\\\\\xa6 \\'\"][\\'b\"Here\\\\\\'s the full min convo w/ writer / artist Kelly Brack in Ep.219! \\\\\\\\n\\\\\\\\nWe talk , , ,\\\\\\\\xe2\\\\\\\\x80\\\\\\\\xa6 \"\\'][\"b\\', , , , &amp; more came up in conversation with\\\\\\\\xc2\\\\\\\\xa0writer/artist\\\\\\\\xe2\\\\\\\\x80\\\\\\\\xa6 \\'\"][\\'b\"Here\\\\\\'s the full min convo w/ writer / artist Kelly Brack in Ep.219! \\\\\\\\n\\\\\\\\nWe talk , , ,\\\\\\\\xe2\\\\\\\\x80\\\\\\\\xa6 \"\\'][\"b\\' I washed it yesterday lol\\'\"][\"b\\'Talked , , , , , , , ,\\\\\\\\xe2\\\\\\\\x80\\\\\\\\xa6 \\'\"][\"b\\'Writer / artist Kelly Brack is a guest of Episode . \\\\\\\\n\\\\\\\\nWe\\\\\\\\xc2\\\\\\\\xa0talked\\\\\\\\xc2\\\\\\\\xa0, , , ,\\\\\\\\xe2\\\\\\\\x80\\\\\\\\xa6 \\'\"][\"b\\'Hear the full min interview! Talked , , , , ,\\\\\\\\xe2\\\\\\\\x80\\\\\\\\xa6 \\'\"][\"b\\'This min has an in-studio visit with\\\\\\\\xc2\\\\\\\\xa0writer/artist ! We talked\\\\\\\\xc2\\\\\\\\xa0, ,\\\\\\\\xc2\\\\\\\\xa0\\\\\\\\xe2\\\\\\\\x80\\\\\\\\xa6 \\'\"][\"b\\', , , , &amp; more came up in conversation with\\\\\\\\xc2\\\\\\\\xa0writer/artist\\\\\\\\xe2\\\\\\\\x80\\\\\\\\xa6 \\'\"][\"b\\', , , , &amp; more came up in conversation with\\\\\\\\xc2\\\\\\\\xa0writer/artist\\\\\\\\xe2\\\\\\\\x80\\\\\\\\xa6 \\'\"][\\'b\"Here\\\\\\'s the full min convo w/ writer / artist Kelly Brack in Ep.219! \\\\\\\\n\\\\\\\\nWe talk , , ,\\\\\\\\xe2\\\\\\\\x80\\\\\\\\xa6 \"\\'][\"b\\' Nah he somewhere in Philly bruv\\'\"][\"b\\'Talked , , , , , , , ,\\\\\\\\xe2\\\\\\\\x80\\\\\\\\xa6 \\'\"][\"b\\' Is that meek in the top left??\\'\"][\"b\\'Writer / artist Kelly Brack is a guest of Episode . \\\\\\\\n\\\\\\\\nWe\\\\\\\\xc2\\\\\\\\xa0talked\\\\\\\\xc2\\\\\\\\xa0, , , ,\\\\\\\\xe2\\\\\\\\x80\\\\\\\\xa6 \\'\"][\"b\\'bring the show back \\'\"][\"b\\' More stuff - \\'\"][\"b\\' Bowood is doing curbside pickup\\'\"][\"b\\' yes you are.\\'\"][\"b\\' Vital journey? nope.\\'\"][\"b\\'This min has an in-studio visit with\\\\\\\\xc2\\\\\\\\xa0writer/artist ! We talked\\\\\\\\xc2\\\\\\\\xa0, ,\\\\\\\\xc2\\\\\\\\xa0\\\\\\\\xe2\\\\\\\\x80\\\\\\\\xa6 \\'\"][\"b\\'Hear the full min interview! Talked , , , , ,\\\\\\\\xe2\\\\\\\\x80\\\\\\\\xa6 \\'\"][\\'b\"It\\\\\\'s ok to be their disappointment baby, it\\\\\\'s ok to fly the flag. \"\\'][\"b\\', , , , &amp; more came up in conversation with\\\\\\\\xc2\\\\\\\\xa0writer/artist\\\\\\\\xe2\\\\\\\\x80\\\\\\\\xa6 \\'\"][\\'b\"Here\\\\\\'s the full min convo w/ writer / artist Kelly Brack in Ep.219! \\\\\\\\n\\\\\\\\nWe talk , , ,\\\\\\\\xe2\\\\\\\\x80\\\\\\\\xa6 \"\\'][\"b\\'Talked , , , , , , , ,\\\\\\\\xe2\\\\\\\\x80\\\\\\\\xa6 \\'\"][\"b\\'Writer / artist Kelly Brack is a guest of Episode . \\\\\\\\n\\\\\\\\nWe\\\\\\\\xc2\\\\\\\\xa0talked\\\\\\\\xc2\\\\\\\\xa0, , , ,\\\\\\\\xe2\\\\\\\\x80\\\\\\\\xa6 \\'\"][\"b\\'Writer / artist is a guest of Episode . \\\\\\\\n\\\\\\\\nIn the full min convo we\\\\\\\\xc2\\\\\\\\xa0talked\\\\\\\\xc2\\\\\\\\xa0, ,\\\\\\\\xe2\\\\\\\\x80\\\\\\\\xa6 \\'\"][\"b\\'This min has an in-studio visit with\\\\\\\\xc2\\\\\\\\xa0writer/artist ! We talked\\\\\\\\xc2\\\\\\\\xa0, ,\\\\\\\\xc2\\\\\\\\xa0\\\\\\\\xe2\\\\\\\\x80\\\\\\\\xa6 \\'\"][\"b\\'Hear the full min interview! Talked , , , , ,\\\\\\\\xe2\\\\\\\\x80\\\\\\\\xa6 \\'\"][\"b\\', , , , &amp; more came up in conversation with\\\\\\\\xc2\\\\\\\\xa0writer/artist\\\\\\\\xe2\\\\\\\\x80\\\\\\\\xa6 \\'\"][\\'b\"Here\\\\\\'s the full min convo w/ writer / artist Kelly Brack in Ep.219! \\\\\\\\n\\\\\\\\nWe talk , , ,\\\\\\\\xe2\\\\\\\\x80\\\\\\\\xa6 \"\\'][\"b\\'For all those stressed out and in fear of what is going on with the here is a great song by c\\\\\\\\xe2\\\\\\\\x80\\\\\\\\xa6 \\'\"][\"b\\' Eh yes in general but they\\\\\\\\xe2\\\\\\\\x80\\\\\\\\x99re talking ab what they\\\\\\\\xe2\\\\\\\\x80\\\\\\\\x99re doing w blush.\\'\"][\\'b\" We\\\\\\'re not Chilean, though. Well, I\\\\\\'m not.\"\\'][\\'b\\\\\\' Is that \"ska I guess\" or is there a genre called skai that I need to look up?\\\\\\'\\'][\"b\\'Talked , , , , , , , ,\\\\\\\\xe2\\\\\\\\x80\\\\\\\\xa6 \\'\"][\"b\\'Hear the full min interview! Talked , , , , ,\\\\\\\\xe2\\\\\\\\x80\\\\\\\\xa6 \\'\"][\"b\\'Writer / artist Kelly Brack is a guest of Episode . \\\\\\\\n\\\\\\\\nWe\\\\\\\\xc2\\\\\\\\xa0talked\\\\\\\\xc2\\\\\\\\xa0, , , ,\\\\\\\\xe2\\\\\\\\x80\\\\\\\\xa6 \\'\"][\"b\\'This min has an in-studio visit with\\\\\\\\xc2\\\\\\\\xa0writer/artist ! We talked\\\\\\\\xc2\\\\\\\\xa0, ,\\\\\\\\xc2\\\\\\\\xa0\\\\\\\\xe2\\\\\\\\x80\\\\\\\\xa6 \\'\"][\"b\\'Hear the full min interview! Talked , , , , ,\\\\\\\\xe2\\\\\\\\x80\\\\\\\\xa6 \\'\"][\"b\\', , , , &amp; more came up in conversation with\\\\\\\\xc2\\\\\\\\xa0writer/artist\\\\\\\\xe2\\\\\\\\x80\\\\\\\\xa6 \\'\"][\\'b\"Here\\\\\\'s the full min convo w/ writer / artist Kelly Brack in Ep.219! \\\\\\\\n\\\\\\\\nWe talk , , ,\\\\\\\\xe2\\\\\\\\x80\\\\\\\\xa6 \"\\'][\"b\\'Talked , , , , , , , ,\\\\\\\\xe2\\\\\\\\x80\\\\\\\\xa6 \\'\"][\"b\\'Writer / artist Kelly Brack is a guest of Episode . \\\\\\\\n\\\\\\\\nWe\\\\\\\\xc2\\\\\\\\xa0talked\\\\\\\\xc2\\\\\\\\xa0, , , ,\\\\\\\\xe2\\\\\\\\x80\\\\\\\\xa6 \\'\"][\"b\\'This min has an in-studio visit with\\\\\\\\xc2\\\\\\\\xa0writer/artist ! We talked\\\\\\\\xc2\\\\\\\\xa0, ,\\\\\\\\xc2\\\\\\\\xa0\\\\\\\\xe2\\\\\\\\x80\\\\\\\\xa6 \\'\"][\"b\\'This min has an in-studio visit with\\\\\\\\xc2\\\\\\\\xa0writer/artist ! We talked\\\\\\\\xc2\\\\\\\\xa0, ,\\\\\\\\xc2\\\\\\\\xa0\\\\\\\\xe2\\\\\\\\x80\\\\\\\\xa6 \\'\"][\"b\\'Hear the full min interview! Talked , , , , ,\\\\\\\\xe2\\\\\\\\x80\\\\\\\\xa6 \\'\"][\"b\\', , , , &amp; more came up in conversation with\\\\\\\\xc2\\\\\\\\xa0writer/artist\\\\\\\\xe2\\\\\\\\x80\\\\\\\\xa6 \\'\"][\"b\\' Well yes that\\\\\\\\xe2\\\\\\\\x80\\\\\\\\x99s why I want to make it. I have a steak too that I\\\\\\\\xe2\\\\\\\\x80\\\\\\\\x99m gonna have to freeze \\\\\\\\xf0\\\\\\\\x9f\\\\\\\\x98\\\\\\\\xad\\'\"][\"b\\' I need to make something before my food goes bad! At least one soup tonight\\'\"][\"b\\' And yet NO picture of the pizza!\\'\"][\\'b\"Here\\\\\\'s the full min convo w/ writer / artist Kelly Brack in Ep.219! \\\\\\\\n\\\\\\\\nWe talk , , ,\\\\\\\\xe2\\\\\\\\x80\\\\\\\\xa6 \"\\'][\"b\\'Talked , , , , , , , ,\\\\\\\\xe2\\\\\\\\x80\\\\\\\\xa6 \\'\"][\"b\\' I feel for people with strict dietary restrictions!\\'\"][\"b\\' How is it out there? I haven\\\\\\\\xe2\\\\\\\\x80\\\\\\\\x99t gotten groceries in a week and we are out \\\\\\\\xf0\\\\\\\\x9f\\\\\\\\x98\\\\\\\\xac\\'\"][\"b\\' Sounds like you need to look into a bidet.\\'\"][\"b\\'Writer / artist Kelly Brack is a guest of Episode . \\\\\\\\n\\\\\\\\nWe\\\\\\\\xc2\\\\\\\\xa0talked\\\\\\\\xc2\\\\\\\\xa0, , , ,\\\\\\\\xe2\\\\\\\\x80\\\\\\\\xa6 \\'\"][\"b\\' I lucked out working a grocery store (except for the constant eure to the public). They set aside\\\\\\\\xe2\\\\\\\\x80\\\\\\\\xa6 \\'\"][\"b\\'Writer / artist is a guest of Episode . \\\\\\\\n\\\\\\\\nIn the full min convo we\\\\\\\\xc2\\\\\\\\xa0talked\\\\\\\\xc2\\\\\\\\xa0, ,\\\\\\\\xe2\\\\\\\\x80\\\\\\\\xa6 \\'\"][\"b\\'Talked , , , , , , , ,\\\\\\\\xe2\\\\\\\\x80\\\\\\\\xa6 \\'\"]'"
      ]
     },
     "execution_count": 5,
     "metadata": {},
     "output_type": "execute_result"
    }
   ],
   "source": [
    "mg = pd.read_csv('/Users/kexinsu/Desktop/MatthewGood.csv',header=None)\n",
    "mg_ls = mg.values.tolist()\n",
    "s=''\n",
    "for i in mg_ls:\n",
    "    s=s+p.clean(str(i))\n",
    "mg_ls\n",
    "s"
   ]
  },
  {
   "cell_type": "code",
   "execution_count": 145,
   "metadata": {},
   "outputs": [
    {
     "data": {
      "text/plain": [
       "'This min has an instudio visit withwriterartist We talked Hear the full min interview Talked more came up in conversation withwriterartist Heres the full min convo w writer artist Kelly Brack in Ep219 We talk I really feel for the class of yall been through it Talked Writer artist Kelly Brack is a guest of Episode Wetalked Writer artist is a guest of Episode In the full min convo wetalked This min has an instudio visit withwriterartist We talked Hear the full min interview Talked Heres the full min convo w writer artist Kelly Brack in Ep219 We talk more came up in conversation withwriterartist Heres the full min convo w writer artist Kelly Brack in Ep219 We talk I washed it yesterday lolTalked Writer artist Kelly Brack is a guest of Episode Wetalked Hear the full min interview Talked This min has an instudio visit withwriterartist We talked more came up in conversation withwriterartist more came up in conversation withwriterartist Heres the full min convo w writer artist Kelly Brack in Ep219 We talk Nah he somewhere in Philly bruvTalked Is that meek in the top leftWriter artist Kelly Brack is a guest of Episode Wetalked bring the show back More stuff Bowood is doing curbside pickup yes you are Vital journey nopeThis min has an instudio visit withwriterartist We talked Hear the full min interview Talked Its ok to be their disappointment baby its ok to fly the flag more came up in conversation withwriterartist Heres the full min convo w writer artist Kelly Brack in Ep219 We talk Talked Writer artist Kelly Brack is a guest of Episode Wetalked Writer artist is a guest of Episode In the full min convo wetalked This min has an instudio visit withwriterartist We talked Hear the full min interview Talked more came up in conversation withwriterartist Heres the full min convo w writer artist Kelly Brack in Ep219 We talk For all those stressed out and in fear of what is going on with the here is a great song by c Eh yes in general but theyre talking ab what theyre doing w blush Were not Chilean though Well Im notb Is that ska I guess or is there a genre called skai that I need to look upTalked Hear the full min interview Talked Writer artist Kelly Brack is a guest of Episode Wetalked This min has an instudio visit withwriterartist We talked Hear the full min interview Talked more came up in conversation withwriterartist Heres the full min convo w writer artist Kelly Brack in Ep219 We talk Talked Writer artist Kelly Brack is a guest of Episode Wetalked This min has an instudio visit withwriterartist We talked This min has an instudio visit withwriterartist We talked Hear the full min interview Talked more came up in conversation withwriterartist Well yes thats why I want to make it I have a steak too that Im gonna have to freeze I need to make something before my food goes bad At least one soup tonight And yet NO picture of the pizzaHeres the full min convo w writer artist Kelly Brack in Ep219 We talk Talked I feel for people with strict dietary restrictions How is it out there I havent gotten groceries in a week and we are out Sounds like you need to look into a bidetWriter artist Kelly Brack is a guest of Episode Wetalked I lucked out working a grocery store ept for the constant eure to the public They set aside Writer artist is a guest of Episode In the full min convo wetalked Talked '"
      ]
     },
     "execution_count": 145,
     "metadata": {},
     "output_type": "execute_result"
    }
   ],
   "source": [
    "mg = pd.read_csv('/Users/kexinsu/Desktop/MatthewGood.csv',header=None)\n",
    "mg_ls = mg.values.tolist()\n",
    "#p.set_options(p.OPT.URL, p.OPT.EMOJI, p.OPT.MENTION, p.OPT.RESERVED, p.OPT.SMILEY)\n",
    "#p.set_options(p.OPT.URL, p.OPT.EMOJI)\n",
    "def clean_tweet(ls):\n",
    "    s=''\n",
    "    for i in ls:\n",
    "        s=s+p.clean(str(i))\n",
    "    s1=s.replace('\"b','')\n",
    "    s2=s1.replace('b\"','')\n",
    "    s3=re.sub('x[a-z0-9][a-z0-9]','',s2)\n",
    "    s4=s3.replace('\\\\n','')\n",
    "    s5=s4.replace('&amp;','')\n",
    "    s6=s5.translate(str.maketrans('', '', string.punctuation))\n",
    "    s_clean=re.sub(' +', ' ',s6 )\n",
    "    return s_clean\n",
    "clean_tweet(mg_ls)"
   ]
  },
  {
   "cell_type": "code",
   "execution_count": 146,
   "metadata": {},
   "outputs": [
    {
     "data": {
      "text/plain": [
       "0.3095238095238094"
      ]
     },
     "execution_count": 146,
     "metadata": {},
     "output_type": "execute_result"
    }
   ],
   "source": [
    "from textblob import TextBlob\n",
    "TextBlob(mg_clean).sentiment.polarity"
   ]
  },
  {
   "cell_type": "code",
   "execution_count": null,
   "metadata": {},
   "outputs": [],
   "source": []
  }
 ],
 "metadata": {
  "kernelspec": {
   "display_name": "Python 3",
   "language": "python",
   "name": "python3"
  },
  "language_info": {
   "codemirror_mode": {
    "name": "ipython",
    "version": 3
   },
   "file_extension": ".py",
   "mimetype": "text/x-python",
   "name": "python",
   "nbconvert_exporter": "python",
   "pygments_lexer": "ipython3",
   "version": "3.6.8"
  }
 },
 "nbformat": 4,
 "nbformat_minor": 4
}
